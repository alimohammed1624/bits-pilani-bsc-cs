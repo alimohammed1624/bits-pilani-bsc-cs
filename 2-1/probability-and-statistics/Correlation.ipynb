{
  "cells": [
    {
      "cell_type": "code",
      "execution_count": 1,
      "metadata": {
        "id": "CSXgfmp4IOKO"
      },
      "outputs": [],
      "source": [
        "from math import sqrt"
      ]
    },
    {
      "cell_type": "code",
      "execution_count": 2,
      "metadata": {
        "id": "6Y2QQPhMGx2I"
      },
      "outputs": [],
      "source": [
        "a = [64,65,66,67,77,70,72,72,74,74,75,76]\n",
        "b = [91,94,88,103,69,96,105,88,122,102,90,114]"
      ]
    },
    {
      "cell_type": "code",
      "execution_count": 3,
      "metadata": {
        "colab": {
          "base_uri": "https://localhost:8080/"
        },
        "id": "QO02KXnPHFJ2",
        "outputId": "8285bf4c-838c-4b10-87e1-1116ecd5bbc1"
      },
      "outputs": [
        {
          "name": "stdout",
          "output_type": "stream",
          "text": [
            "ma: 71.0 , mb: 96.83333333333333\n",
            "sa: 4.51260859854213 , sb: 13.749931129304105\n",
            "r: 0.08790840002550947\n"
          ]
        }
      ],
      "source": [
        "n = len(a)\n",
        "assert len(b) == n\n",
        "\n",
        "ma = sum(a)/n\n",
        "mb = sum(b)/n\n",
        "print(\"ma:\",ma,\",\",\"mb:\",mb)\n",
        "\n",
        "sa = sqrt(sum([(a[i]-ma)**2 for i in range(n)])/(n-1))\n",
        "sb = sqrt(sum([(b[i]-mb)**2 for i in range(n)])/(n-1))\n",
        "print(\"sa:\",sa,\",\",\"sb:\",sb)\n",
        "\n",
        "r = sum([(a[i]-ma)*(b[i]-mb) for i in range(n)]) / (sa*sb*(n-1))\n",
        "print(\"r:\",r)"
      ]
    },
    {
      "cell_type": "code",
      "execution_count": 9,
      "metadata": {},
      "outputs": [
        {
          "name": "stdout",
          "output_type": "stream",
          "text": [
            "mx: 3.7120000000000006 , sx: 0.1505638525151722\n",
            "0.8\n",
            "0.24444444444444446\n"
          ]
        }
      ],
      "source": [
        "x = [3.46, 3.72, 3.95, 3.55, 3.62, 3.80, 3.86, 3.71, 3.49, 3.96, 3.90, 3.70, 3.61, 3.72, 3.48, 3.87, 3.67, 3.72, 3.66, 3.79]\n",
        "n = len(x)\n",
        "mx = sum(x)/n\n",
        "k = 1.5\n",
        "sx = sqrt(sum([(x[i]-mx)**2 for i in range(n)])/(n-1))\n",
        "print(\"mx:\",mx,\",\",\"sx:\",sx)\n",
        "\n",
        "t = []\n",
        "for i in range(n):\n",
        "    if abs(x[i]-mx) < k*sx:\n",
        "        t.append(x[i])\n",
        "print(len(t)/len(x))\n",
        "print(len(t)/len(x) - (1-1/k**2))"
      ]
    }
  ],
  "metadata": {
    "colab": {
      "provenance": []
    },
    "kernelspec": {
      "display_name": "Python 3",
      "name": "python3"
    },
    "language_info": {
      "codemirror_mode": {
        "name": "ipython",
        "version": 3
      },
      "file_extension": ".py",
      "mimetype": "text/x-python",
      "name": "python",
      "nbconvert_exporter": "python",
      "pygments_lexer": "ipython3",
      "version": "3.11.7"
    }
  },
  "nbformat": 4,
  "nbformat_minor": 0
}
