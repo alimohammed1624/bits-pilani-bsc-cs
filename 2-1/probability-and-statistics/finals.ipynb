{
 "cells": [
  {
   "cell_type": "code",
   "execution_count": 1,
   "metadata": {},
   "outputs": [],
   "source": [
    "import numpy as np"
   ]
  },
  {
   "cell_type": "code",
   "execution_count": 2,
   "metadata": {},
   "outputs": [],
   "source": [
    "def linear_regression(x,y):\n",
    "    n = len(x)\n",
    "    x_sum = x.sum()\n",
    "    y_sum = y.sum()\n",
    "    x2_sum = (x**2).sum()\n",
    "    xy_sum = (x*y).sum()\n",
    "    beta = np.matmul(np.linalg.inv(np.array([[n,x_sum],[x_sum,x2_sum]])),np.array([y_sum,xy_sum]))\n",
    "    return beta"
   ]
  },
  {
   "cell_type": "code",
   "execution_count": 3,
   "metadata": {},
   "outputs": [
    {
     "name": "stdout",
     "output_type": "stream",
     "text": [
      "a = 4.493955910726922 , b = 0.18832829876402826\n"
     ]
    }
   ],
   "source": [
    "x = np.array([1, 1, 2, 2, 3,3,4,5,6,7])\n",
    "y = np.array([2,7,7,10,8,12,10,14,11,14])\n",
    "y_log = np.log(y)\n",
    "beta = linear_regression(x,y_log)\n",
    "a = np.e**beta[0]\n",
    "b = beta[1]\n",
    "print(\"a =\",a, \", b =\",b)"
   ]
  },
  {
   "cell_type": "code",
   "execution_count": 4,
   "metadata": {},
   "outputs": [
    {
     "data": {
      "text/plain": [
       "0.4547052368504917"
      ]
     },
     "execution_count": 4,
     "metadata": {},
     "output_type": "execute_result"
    }
   ],
   "source": [
    "y_hat = a*np.e**(b*x)\n",
    "rss = sum((y - y_hat)**2)\n",
    "tss = sum((y - y.mean())**2)\n",
    "r2 = 1 - rss/tss\n",
    "r2"
   ]
  }
 ],
 "metadata": {
  "kernelspec": {
   "display_name": "Python 3",
   "language": "python",
   "name": "python3"
  },
  "language_info": {
   "codemirror_mode": {
    "name": "ipython",
    "version": 3
   },
   "file_extension": ".py",
   "mimetype": "text/x-python",
   "name": "python",
   "nbconvert_exporter": "python",
   "pygments_lexer": "ipython3",
   "version": "3.12.3"
  }
 },
 "nbformat": 4,
 "nbformat_minor": 2
}
