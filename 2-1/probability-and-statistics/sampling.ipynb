{
 "cells": [
  {
   "cell_type": "code",
   "execution_count": 3,
   "metadata": {},
   "outputs": [
    {
     "name": "stdout",
     "output_type": "stream",
     "text": [
      "0.091746\n"
     ]
    }
   ],
   "source": [
    "import numpy as np\n",
    "count = 0\n",
    "n = int(1e6)\n",
    "for i in range(n):\n",
    "    sample = [np.random.normal(800,300) for j in range(16)]\n",
    "    if sum(sample) > 16*900:\n",
    "        count += 1\n",
    "print(count/n)"
   ]
  }
 ],
 "metadata": {
  "kernelspec": {
   "display_name": "Python 3",
   "language": "python",
   "name": "python3"
  },
  "language_info": {
   "codemirror_mode": {
    "name": "ipython",
    "version": 3
   },
   "file_extension": ".py",
   "mimetype": "text/x-python",
   "name": "python",
   "nbconvert_exporter": "python",
   "pygments_lexer": "ipython3",
   "version": "3.12.2"
  }
 },
 "nbformat": 4,
 "nbformat_minor": 2
}
