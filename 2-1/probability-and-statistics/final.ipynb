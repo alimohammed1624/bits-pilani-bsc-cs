{
 "cells": [
  {
   "cell_type": "code",
   "execution_count": 1,
   "metadata": {},
   "outputs": [],
   "source": [
    "import numpy as np"
   ]
  },
  {
   "cell_type": "code",
   "execution_count": 2,
   "metadata": {},
   "outputs": [],
   "source": [
    "x1 = [30,47,25,51,40,51,74,36,59,76]\n",
    "x2 = [12,10,17,16,5,19,7,12,13,16]\n",
    "y = [94,108,112,178,94,175,170,117,142,211]"
   ]
  },
  {
   "cell_type": "code",
   "execution_count": 3,
   "metadata": {},
   "outputs": [
    {
     "name": "stdout",
     "output_type": "stream",
     "text": [
      "yhat = 5 + 3*x1 + 2*x2\n",
      "yhat =  [119 166 114 190 135 196 241 137 208 265]\n"
     ]
    }
   ],
   "source": [
    "a = [5,3,2]\n",
    "print(f\"yhat = {a[0]} + {a[1]}*x1 + {a[2]}*x2\")\n",
    "yhat = a[0] + a[1] * np.array(x1) + a[2] * np.array(x2)\n",
    "print(\"yhat = \", yhat)"
   ]
  },
  {
   "cell_type": "code",
   "execution_count": 4,
   "metadata": {},
   "outputs": [
    {
     "name": "stdout",
     "output_type": "stream",
     "text": [
      "RSS =  18972\n",
      "TSS =  15182.900000000001\n",
      "R square =  -0.2495636538474204\n",
      "P = 2, N = 10\n",
      "Adjusted R square =  -0.6065818406609691\n"
     ]
    }
   ],
   "source": [
    "rss = np.sum((np.array(y) - yhat) ** 2)\n",
    "print(\"RSS = \", rss)\n",
    "tss = np.sum((np.array(y) - np.mean(y)) ** 2)\n",
    "print(\"TSS = \", tss)\n",
    "r_square = 1 - (rss / tss)\n",
    "print(\"R square = \", r_square)\n",
    "\n",
    "print(\"P = 2, N = 10\")\n",
    "\n",
    "adj_r_square = 1 - (1 - r_square) * (10 - 1) / (10 - 2 - 1)\n",
    "print(\"Adjusted R square = \", adj_r_square)"
   ]
  },
  {
   "cell_type": "code",
   "execution_count": 5,
   "metadata": {},
   "outputs": [],
   "source": [
    "x = [100,150,200,250,300,350,400,450]\n",
    "y = [99.1,98.5,98.2,98,97.8,97.6,97.5,97]"
   ]
  },
  {
   "cell_type": "code",
   "execution_count": 6,
   "metadata": {},
   "outputs": [
    {
     "name": "stdout",
     "output_type": "stream",
     "text": [
      "x sum:  2200\n",
      "y sum:  783.6999999999999\n",
      "x square sum:  710000\n",
      "x * y sum:  214975.0\n"
     ]
    }
   ],
   "source": [
    "x_sum = np.sum(x)\n",
    "y_sum = np.sum(y)\n",
    "x_square_sum = np.sum(np.array(x) ** 2)\n",
    "x_y_sum = np.sum(np.array(x) * np.array(y))\n",
    "print(\"x sum: \", x_sum)\n",
    "print(\"y sum: \", y_sum)\n",
    "print(\"x square sum: \", x_square_sum)\n",
    "print(\"x * y sum: \", x_y_sum)"
   ]
  },
  {
   "cell_type": "code",
   "execution_count": 7,
   "metadata": {},
   "outputs": [
    {
     "name": "stdout",
     "output_type": "stream",
     "text": [
      "y sum = b0 * n + b1 * x_sum\n",
      "x * y sum = b0 * x_sum + b1 * x_square_sum\n",
      "\n",
      "\n",
      "matrix = \n",
      " [[     8   2200]\n",
      " [  2200 710000]]\n",
      "inverse =  [[ 8.45238095e-01 -2.61904762e-03]\n",
      " [-2.61904762e-03  9.52380952e-06]]\n",
      "\n",
      "\n",
      "b0 =  99.38333333333335\n",
      "b1 =  -0.005166666666666402\n"
     ]
    }
   ],
   "source": [
    "print(\"y sum = b0 * n + b1 * x_sum\")\n",
    "print(\"x * y sum = b0 * x_sum + b1 * x_square_sum\\n\\n\")\n",
    "\n",
    "b = np.array([[8, x_sum], [x_sum, x_square_sum]])\n",
    "c = np.array([y_sum, x_y_sum])\n",
    "\n",
    "b_inv = np.linalg.inv(b)\n",
    "result = np.matmul(b_inv, c)\n",
    "\n",
    "print(\"matrix = \\n\", b)\n",
    "print(\"inverse = \", b_inv)\n",
    "print(\"\\n\\nb0 = \", result[0])\n",
    "print(\"b1 = \", result[1])"
   ]
  }
 ],
 "metadata": {
  "kernelspec": {
   "display_name": "python",
   "language": "python",
   "name": "python3"
  },
  "language_info": {
   "codemirror_mode": {
    "name": "ipython",
    "version": 3
   },
   "file_extension": ".py",
   "mimetype": "text/x-python",
   "name": "python",
   "nbconvert_exporter": "python",
   "pygments_lexer": "ipython3",
   "version": "3.12.3"
  }
 },
 "nbformat": 4,
 "nbformat_minor": 2
}
