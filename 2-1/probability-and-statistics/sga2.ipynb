{
 "cells": [
  {
   "cell_type": "code",
   "execution_count": 1,
   "metadata": {},
   "outputs": [],
   "source": [
    "import numpy as np\n",
    "from scipy.stats import t, norm, chi2"
   ]
  },
  {
   "cell_type": "code",
   "execution_count": 2,
   "metadata": {},
   "outputs": [
    {
     "name": "stdout",
     "output_type": "stream",
     "text": [
      "mean =  52.53333333333333\n",
      "variance =  533.4095238095238\n",
      "23.09566028087363\n",
      "t at alpha=0.95 =  2.1447866879169273\n",
      "mean is between  39.74338297953787 and 65.3232836871288\n",
      "t at alpha=0.90 =  1.761310135774856\n",
      "mean is between  42.030158672138455 and 63.03650799452821\n"
     ]
    }
   ],
   "source": [
    "a = [25, 45, 65, 70, 75, 55, 34, 67, 87, 90, 15, 45, 25, 35, 55]\n",
    "\n",
    "mean = np.mean(a)\n",
    "print(\"mean = \", mean)\n",
    "var = sum([(i - mean)**2 for i in a])/(len(a)-1)\n",
    "print(\"variance = \", var)\n",
    "print(np.sqrt(var))\n",
    "\n",
    "t_alpha_95 = t.ppf(0.975, len(a)-1)\n",
    "print(\"t at alpha=0.95 = \", t_alpha_95)\n",
    "\n",
    "print(\"mean is between \", mean - t_alpha_95*np.sqrt(var/len(a)),\"and\", mean + t_alpha_95*np.sqrt(var/len(a)))\n",
    "\n",
    "t_alpha_90 = t.ppf(0.95, len(a)-1)\n",
    "print(\"t at alpha=0.90 = \", t_alpha_90)\n",
    "print(\"mean is between \", mean - t_alpha_90*np.sqrt(var/len(a)), \"and\", mean + t_alpha_90*np.sqrt(var/len(a)))"
   ]
  },
  {
   "cell_type": "code",
   "execution_count": 8,
   "metadata": {},
   "outputs": [
    {
     "name": "stdout",
     "output_type": "stream",
     "text": [
      "z_alpha =  -1.6448536269514729\n",
      "z =  -13.416407864998739\n"
     ]
    }
   ],
   "source": [
    "m = 68000\n",
    "n = 45\n",
    "s = 1000\n",
    "alpha = 0.05\n",
    "\n",
    "z_alpha = norm.ppf(alpha)\n",
    "print(\"z_alpha = \",z_alpha)\n",
    "z = (m - 70000)/(s/np.sqrt(n))\n",
    "print(\"z = \", z)"
   ]
  },
  {
   "cell_type": "code",
   "execution_count": 4,
   "metadata": {},
   "outputs": [
    {
     "name": "stdout",
     "output_type": "stream",
     "text": [
      "p1 =  0.35714285714285715 \n",
      "p2 =  0.37333333333333335\n",
      "p =  0.36551724137931035\n",
      "z =  -0.6397222066947104\n",
      "z_alpha =  1.959963984540054\n"
     ]
    }
   ],
   "source": [
    "x1,x2 = 250, 280\n",
    "n1,n2 = 700, 750\n",
    "alpha = 0.05\n",
    "\n",
    "p1,p2 = x1/n1, x2/n2\n",
    "print(\"p1 = \", p1, \"\\np2 = \", p2)\n",
    "p = (x1+x2)/(n1+n2)\n",
    "print(\"p = \", p)\n",
    "z = (p1-p2)/np.sqrt(p*(1-p)*(1/n1+1/n2))\n",
    "print(\"z = \", z)\n",
    "z_alpha = norm.ppf(1-alpha/2)\n",
    "print(\"z_alpha = \", z_alpha)"
   ]
  },
  {
   "cell_type": "code",
   "execution_count": 5,
   "metadata": {},
   "outputs": [
    {
     "name": "stdout",
     "output_type": "stream",
     "text": [
      "chi2 =  91.88538733993283\n",
      "chi2_alpha =  9.21034037197618\n"
     ]
    }
   ],
   "source": [
    "x = np.array([[500, 300, 300],[200, 350, 250]])\n",
    "e = np.array([[700*1100/1900, 650*1100/1900, 550*1100/1900],[700*800/1900, 650*800/1900, 550*800/1900]])\n",
    "alpha = 0.01\n",
    "chi_2 = ((x-e)**2/e).sum()\n",
    "print(\"chi2 = \", chi_2)\n",
    "\n",
    "chi2_alpha = chi2.ppf(1-alpha, 2)\n",
    "print(\"chi2_alpha = \",chi2_alpha)\n"
   ]
  },
  {
   "cell_type": "code",
   "execution_count": 6,
   "metadata": {},
   "outputs": [
    {
     "name": "stdout",
     "output_type": "stream",
     "text": [
      "a_mean =  9.428571428571429 \n",
      "b_mean =  49.285714285714285\n",
      "covariance =  -51.3095238095238\n",
      "a_var =  10.619047619047619 \n",
      "b_var =  345.23809523809524\n",
      "r =  -0.8474144085605877\n"
     ]
    }
   ],
   "source": [
    "a = [8,6,10,9,12,6,15]\n",
    "b = [60,75,50,30,40,65,25]\n",
    "\n",
    "a_mean, b_mean = np.mean(a), np.mean(b)\n",
    "print(\"a_mean = \", a_mean, \"\\nb_mean = \", b_mean)\n",
    "\n",
    "cov = sum([(x-a_mean)*(y-b_mean) for x,y in zip(a,b)])/(len(a)-1)\n",
    "print(\"covariance = \", cov)\n",
    "\n",
    "a_var = sum([(x-a_mean)**2 for x in a])/(len(a)-1)\n",
    "b_var = sum([(x-b_mean)**2 for x in b])/(len(b)-1)\n",
    "print(\"a_var = \", a_var, \"\\nb_var = \", b_var)\n",
    "\n",
    "r = cov/np.sqrt(a_var*b_var)\n",
    "print(\"r = \", r)"
   ]
  },
  {
   "cell_type": "code",
   "execution_count": 7,
   "metadata": {},
   "outputs": [
    {
     "name": "stdout",
     "output_type": "stream",
     "text": [
      "x_sum =  75\n",
      "y_sum =  137\n",
      "x2_sum =  1193\n",
      "xy_sum =  2055\n",
      "beta =  [2.74000000e+01 1.27675648e-15]\n"
     ]
    }
   ],
   "source": [
    "x = np.array([10,12,15,18,20])\n",
    "y = np.array([35,20,27,20,35])\n",
    "\n",
    "x_sum = x.sum()\n",
    "y_sum = y.sum()\n",
    "x2_sum = (x**2).sum()\n",
    "xy_sum = (x*y).sum()\n",
    "\n",
    "print(\"x_sum = \",x_sum)\n",
    "print(\"y_sum = \",y_sum)\n",
    "print(\"x2_sum = \",x2_sum)\n",
    "print(\"xy_sum = \",xy_sum)\n",
    "\n",
    "beta = np.linalg.inv(np.array([[5,x_sum],[x_sum,x2_sum]]))@np.array([y_sum,xy_sum])\n",
    "print(\"beta = \",beta)"
   ]
  }
 ],
 "metadata": {
  "kernelspec": {
   "display_name": "Python 3",
   "language": "python",
   "name": "python3"
  },
  "language_info": {
   "codemirror_mode": {
    "name": "ipython",
    "version": 3
   },
   "file_extension": ".py",
   "mimetype": "text/x-python",
   "name": "python",
   "nbconvert_exporter": "python",
   "pygments_lexer": "ipython3",
   "version": "3.12.3"
  }
 },
 "nbformat": 4,
 "nbformat_minor": 2
}
